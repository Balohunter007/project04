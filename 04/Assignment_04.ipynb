{
  "nbformat": 4,
  "nbformat_minor": 0,
  "metadata": {
    "colab": {
      "name": "Assignment 04",
      "provenance": [],
      "collapsed_sections": []
    },
    "kernelspec": {
      "name": "python3",
      "display_name": "Python 3"
    },
    "language_info": {
      "name": "python"
    }
  },
  "cells": [
    {
      "cell_type": "code",
      "metadata": {
        "colab": {
          "base_uri": "https://localhost:8080/",
          "height": 414
        },
        "id": "-AGS0i4afyhJ",
        "outputId": "21a7d47b-b3c7-4963-d21b-92014c151e75"
      },
      "source": [
        "#Enter the price of the House you wish to Buy\n",
        "(\"400000.00\")\n",
        "price = input(\"New house price\")\n",
        "\n",
        "#Enter the first name\n",
        "(\"Dolapo\")\n",
        "first_name = input(\"First name\")\n",
        "\n",
        "#Enter the last name\n",
        "(\"Odebiyi\")\n",
        "last_name = input(\"Last name\")\n",
        "\n",
        "fullname = first_name + \" \" + last_name\n",
        "\n",
        "#Enter the email\n",
        "(\"itzdolarp406@gmail.com\")\n",
        "email = input(\"Email\")\n",
        "\n",
        "#Enter the phone number\n",
        "(\"7133075420\")\n",
        "phone = input(\"phone number\")\n",
        "\n",
        "#Enter the mailing\n",
        "(\"9401 Beechnut Str\")\n",
        "input(\"Mailing\")\n",
        "\n",
        "#Enter the mailing\n",
        "(\"Houston\")\n",
        "city = input(\"City\")\n",
        "\n",
        "#Enter the mailing\n",
        "(\"77036\")\n",
        "zipcode = input(\"Zipcode\")\n",
        "\n",
        "\n",
        "#Qualify for loans with the best interest rates\n",
        "#Enter CreditScore\n",
        "(\"580\")\n",
        "input(\"CreditScore\") \n",
        "#Enter Downpayment\n",
        "(\"40000.00\")\n",
        "input(\"Down Payment\")\n",
        "#Enter CreditStatus\n",
        "(\"Below Downpayment\")\n",
        "input(\"CreditStatus\")\n",
        "\n",
        "#Usually qualify for loans with the best interest rates\n",
        "CreditScore >= (\"580\")\n",
        "print(\"Very Good\")\n",
        "downPayment = 0.1 * price\n",
        "\n",
        "#May face slightly higher loan Interest rates\n",
        "CreditScore >= (\"580\")\n",
        "print(\"Above Average\")\n",
        "downPayment = 0.3 * price\n",
        "\n",
        "#May qualify for most loans of higher interest rates\n",
        "CreditScore >= (\"580\")\n",
        "print(\"Average\")\n",
        "downPayment = 0.6 * price\n",
        "\n",
        "#May qualify for most loans at significant higher Interest rates\n",
        "CreditScore >= (\"580\")\n",
        "print(\"Below Average\")\n",
        "downPayment = 0.18 * price\n",
        "\n",
        "#Usually has some credit issues; will probably not qualify for most loans\n",
        "CreditScore >= (\"580\")\n",
        "print(\"Poor Credit Score\")\n",
        "downPayment = 0.20 * price\n",
        "\n",
        "#Facing extreme credit issue\n",
        "CreditScore < 520\n",
        "print(\"Poor Credit Score\")\n",
        "downPayment = 0.25 * price"
      ],
      "execution_count": 18,
      "outputs": [
        {
          "output_type": "stream",
          "text": [
            "New house price:400000.00\n",
            "First name:Dolapo\n",
            "Last name:Odebiyi\n",
            "Email:itzdolarp406@gmail.com\n",
            "phone number:7133075420\n",
            "Mailing:9401 Beechnut Str\n",
            "City:Houston\n",
            "Zipcode:77036\n",
            "CreditScore:580\n",
            "Down Payment:40000.00\n",
            "CreditStatus: Below Down Payment\n"
          ],
          "name": "stdout"
        },
        {
          "output_type": "error",
          "ename": "NameError",
          "evalue": "ignored",
          "traceback": [
            "\u001b[0;31m---------------------------------------------------------------------------\u001b[0m",
            "\u001b[0;31mNameError\u001b[0m                                 Traceback (most recent call last)",
            "\u001b[0;32m<ipython-input-18-5aadebe5cc5f>\u001b[0m in \u001b[0;36m<module>\u001b[0;34m()\u001b[0m\n\u001b[1;32m     46\u001b[0m \u001b[0;34m\u001b[0m\u001b[0m\n\u001b[1;32m     47\u001b[0m \u001b[0;31m#Usually qualify for loans with the best interest rates\u001b[0m\u001b[0;34m\u001b[0m\u001b[0;34m\u001b[0m\u001b[0;34m\u001b[0m\u001b[0m\n\u001b[0;32m---> 48\u001b[0;31m \u001b[0mCreditScore\u001b[0m \u001b[0;34m>=\u001b[0m \u001b[0;34m(\u001b[0m\u001b[0;34m\"580\"\u001b[0m\u001b[0;34m)\u001b[0m\u001b[0;34m\u001b[0m\u001b[0;34m\u001b[0m\u001b[0m\n\u001b[0m\u001b[1;32m     49\u001b[0m \u001b[0mprint\u001b[0m\u001b[0;34m(\u001b[0m\u001b[0;34m\"Very Good\"\u001b[0m\u001b[0;34m)\u001b[0m\u001b[0;34m\u001b[0m\u001b[0;34m\u001b[0m\u001b[0m\n\u001b[1;32m     50\u001b[0m \u001b[0mdownPayment\u001b[0m \u001b[0;34m=\u001b[0m \u001b[0;36m0.1\u001b[0m \u001b[0;34m*\u001b[0m \u001b[0mprice\u001b[0m\u001b[0;34m\u001b[0m\u001b[0;34m\u001b[0m\u001b[0m\n",
            "\u001b[0;31mNameError\u001b[0m: name 'CreditScore' is not defined"
          ]
        }
      ]
    }
  ]
}